{
 "cells": [
  {
   "cell_type": "code",
   "execution_count": 1,
   "id": "47b4133b-9ef1-454e-b6ba-00bc46024b18",
   "metadata": {},
   "outputs": [
    {
     "name": "stdout",
     "output_type": "stream",
     "text": [
      "24\n"
     ]
    }
   ],
   "source": [
    "from functools import reduce\n",
    "\n",
    "def multiply_list(numbers):\n",
    "    return reduce(lambda x, y: x * y, numbers, 1)\n",
    "\n",
    "# Example usage\n",
    "print(multiply_list([1, 2, 3, 4]))  # Output: 24\n"
   ]
  },
  {
   "cell_type": "code",
   "execution_count": 2,
   "id": "7cf270d7-8e0e-43dd-93f2-b4a8103006dc",
   "metadata": {},
   "outputs": [
    {
     "name": "stdout",
     "output_type": "stream",
     "text": [
      "True\n",
      "True\n",
      "False\n"
     ]
    }
   ],
   "source": [
    "def is_perfect(n):\n",
    "    return sum(i for i in range(1, n) if n % i == 0) == n\n",
    "\n",
    "# Example usage\n",
    "print(is_perfect(6))   # Output: True (6 = 1 + 2 + 3)\n",
    "print(is_perfect(28))  # Output: True (28 = 1 + 2 + 4 + 7 + 14)\n",
    "print(is_perfect(12))  # Output: False\n"
   ]
  },
  {
   "cell_type": "code",
   "execution_count": 3,
   "id": "c0e6c2c5-84c0-47d5-b86f-75785cff5747",
   "metadata": {},
   "outputs": [
    {
     "name": "stdout",
     "output_type": "stream",
     "text": [
      "True\n",
      "False\n"
     ]
    }
   ],
   "source": [
    "def is_palindrome(s):\n",
    "    return s == s[::-1]\n",
    "\n",
    "# Example usage\n",
    "print(is_palindrome(\"madam\"))  # Output: True\n",
    "print(is_palindrome(\"hello\"))  # Output: False\n"
   ]
  },
  {
   "cell_type": "code",
   "execution_count": 4,
   "id": "9133aaab-98f2-470b-b7ab-94c4b7322581",
   "metadata": {},
   "outputs": [
    {
     "name": "stdout",
     "output_type": "stream",
     "text": [
      "True\n",
      "False\n"
     ]
    }
   ],
   "source": [
    "import string\n",
    "\n",
    "def is_pangram(s):\n",
    "    return set(string.ascii_lowercase).issubset(set(s.lower()))\n",
    "\n",
    "# Example usage\n",
    "print(is_pangram(\"The quick brown fox jumps over the lazy dog\"))  # Output: True\n",
    "print(is_pangram(\"Hello world\"))  # Output: False\n"
   ]
  },
  {
   "cell_type": "code",
   "execution_count": 5,
   "id": "b3055d2d-5c82-465c-aaa3-4c3ae631f6d4",
   "metadata": {},
   "outputs": [
    {
     "name": "stdout",
     "output_type": "stream",
     "text": [
      "6\n",
      "15\n"
     ]
    }
   ],
   "source": [
    "def sum_of_digits(n):\n",
    "    return sum(int(digit) for digit in str(abs(n)))\n",
    "\n",
    "# Example usage\n",
    "print(sum_of_digits(123))  # Output: 6\n",
    "print(sum_of_digits(-456))  # Output: 15\n"
   ]
  },
  {
   "cell_type": "code",
   "execution_count": 6,
   "id": "24315601-57ac-4594-b769-bfbb26a66b00",
   "metadata": {},
   "outputs": [
    {
     "name": "stdout",
     "output_type": "stream",
     "text": [
      "[61, 14, 73, 42]\n"
     ]
    }
   ],
   "source": [
    "import random\n",
    "\n",
    "def generate_random_numbers():\n",
    "    return [random.randint(1, 100) for _ in range(4)]\n",
    "\n",
    "# Example usage\n",
    "print(generate_random_numbers())  # Output: [random numbers]\n"
   ]
  },
  {
   "cell_type": "code",
   "execution_count": null,
   "id": "2704abb9-42c3-447b-9da3-7bda05b70064",
   "metadata": {},
   "outputs": [],
   "source": []
  }
 ],
 "metadata": {
  "kernelspec": {
   "display_name": "Python 3 (ipykernel)",
   "language": "python",
   "name": "python3"
  },
  "language_info": {
   "codemirror_mode": {
    "name": "ipython",
    "version": 3
   },
   "file_extension": ".py",
   "mimetype": "text/x-python",
   "name": "python",
   "nbconvert_exporter": "python",
   "pygments_lexer": "ipython3",
   "version": "3.13.1"
  }
 },
 "nbformat": 4,
 "nbformat_minor": 5
}
