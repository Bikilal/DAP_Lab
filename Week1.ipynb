{
 "cells": [
  {
   "cell_type": "code",
   "execution_count": 8,
   "id": "9c63aa16-b785-4b86-b7ff-caee660af8c3",
   "metadata": {},
   "outputs": [
    {
     "name": "stdout",
     "output_type": "stream",
     "text": [
      "Hello world!\n"
     ]
    }
   ],
   "source": [
    "print('Hello world!')"
   ]
  },
  {
   "cell_type": "code",
   "execution_count": 18,
   "id": "c1c3a9fe-7006-4a67-adff-8ac5de74aef8",
   "metadata": {},
   "outputs": [
    {
     "name": "stdin",
     "output_type": "stream",
     "text": [
      "Enter the number:  12\n",
      "Enter the another number:  45\n"
     ]
    },
    {
     "name": "stdout",
     "output_type": "stream",
     "text": [
      "The sum of 12 and 45 is :  57\n"
     ]
    }
   ],
   "source": [
    "a=int(input(\"Enter the number: \"))\n",
    "b=int(input(\"Enter the another number: \"))\n",
    "sum=a+b\n",
    "print(f'The sum of {a} and {b} is : ',sum)"
   ]
  },
  {
   "cell_type": "code",
   "execution_count": 21,
   "id": "efaeca3e-86cf-4250-bc13-8a1861a62a48",
   "metadata": {},
   "outputs": [
    {
     "name": "stdin",
     "output_type": "stream",
     "text": [
      "Enter the number:  3\n"
     ]
    },
    {
     "name": "stdout",
     "output_type": "stream",
     "text": [
      "The square of a number 3 is :  9\n"
     ]
    }
   ],
   "source": [
    "a=int(input(\"Enter the number: \"))\n",
    "sqrt=a**2\n",
    "print(f'The square of a number {a} is : ',sqrt)"
   ]
  },
  {
   "cell_type": "code",
   "execution_count": 26,
   "id": "bb2b6913-107a-4f6b-a8c9-eb271c3c397f",
   "metadata": {},
   "outputs": [
    {
     "name": "stdin",
     "output_type": "stream",
     "text": [
      "Enter the name:  biki\n"
     ]
    },
    {
     "name": "stdout",
     "output_type": "stream",
     "text": [
      "Hello biki, nice to meet you\n"
     ]
    }
   ],
   "source": [
    "name=str(input(\"Enter the name: \"))\n",
    "print(f'Hello {name}, nice to meet you')\n",
    "         "
   ]
  },
  {
   "cell_type": "code",
   "execution_count": 33,
   "id": "4a11215e-1f17-445f-ac8a-341b32fbb81e",
   "metadata": {},
   "outputs": [
    {
     "name": "stdin",
     "output_type": "stream",
     "text": [
      "Enter the number:  68\n"
     ]
    },
    {
     "name": "stdout",
     "output_type": "stream",
     "text": [
      "Even\n"
     ]
    }
   ],
   "source": [
    "a=int(input(\"Enter the number: \"))\n",
    "if(a%2==0):\n",
    "    print(\"Even\")\n",
    "else:\n",
    "    print(\"odd\")"
   ]
  },
  {
   "cell_type": "code",
   "execution_count": 40,
   "id": "97335ef3-361d-492c-81ac-056ccd5d53b6",
   "metadata": {},
   "outputs": [
    {
     "name": "stdout",
     "output_type": "stream",
     "text": [
      "Original list:  [1, 2, 3, 3, 4, 4, 5, 5, 5]\n",
      "Unique list:  [1, 2, 3, 4, 5]\n"
     ]
    }
   ],
   "source": [
    "original_list=[1,2,3,3,4,4,5,5,5]\n",
    "unique_list=[]\n",
    "for item in original_list:\n",
    "    if item not in unique_list:\n",
    "        unique_list.append(item)\n",
    "print(\"Original list: \",original_list)\n",
    "print(\"Unique list: \",unique_list)"
   ]
  },
  {
   "cell_type": "code",
   "execution_count": 58,
   "id": "31c4269d-548c-4a0e-9243-9b7878958b5f",
   "metadata": {},
   "outputs": [
    {
     "name": "stdin",
     "output_type": "stream",
     "text": [
      "Enter the temperature in censius:  7\n"
     ]
    },
    {
     "name": "stdout",
     "output_type": "stream",
     "text": [
      "7.0 to farenhit is:  44.6\n"
     ]
    }
   ],
   "source": [
    "#convert censius to farenhit\n",
    "censius=float(input(\"Enter the temperature in censius: \"))\n",
    "print(f'{censius} to farenhit is: ',(censius*(9/5)+32))"
   ]
  },
  {
   "cell_type": "code",
   "execution_count": 55,
   "id": "d7153ad3-be92-4f1a-9f79-8562d72027b4",
   "metadata": {},
   "outputs": [
    {
     "name": "stdin",
     "output_type": "stream",
     "text": [
      "Enter the radius of a circle:  5\n"
     ]
    },
    {
     "name": "stdout",
     "output_type": "stream",
     "text": [
      "Area of circle is:78.54\n"
     ]
    }
   ],
   "source": [
    "#find the area of circle\n",
    "import math \n",
    "radius=float(input(\"Enter the radius of a circle: \"))\n",
    "area=math.pi *(radius**2)\n",
    "print(f'Area of circle is:{area:.2f}')"
   ]
  },
  {
   "cell_type": "code",
   "execution_count": 57,
   "id": "24fbc501-c740-4be8-b8b9-ca5780755c92",
   "metadata": {},
   "outputs": [
    {
     "name": "stdin",
     "output_type": "stream",
     "text": [
      "Enter the string:  hello\n"
     ]
    },
    {
     "name": "stdout",
     "output_type": "stream",
     "text": [
      "Original string:  hello\n",
      "Reverse string:  olleh\n"
     ]
    }
   ],
   "source": [
    "#reverse the given string\n",
    "string=str(input(\"Enter the string: \"))\n",
    "reversed_string=\"\"\n",
    "for char in string:\n",
    "    reversed_string=char+reversed_string\n",
    "print(\"Original string: \",string)\n",
    "print(\"Reverse string: \",reversed_string)"
   ]
  },
  {
   "cell_type": "code",
   "execution_count": 61,
   "id": "9ea9ad17-1c6a-48a2-a35f-23ef4fb85356",
   "metadata": {},
   "outputs": [
    {
     "name": "stdin",
     "output_type": "stream",
     "text": [
      "Enter a number:  9\n"
     ]
    },
    {
     "name": "stdout",
     "output_type": "stream",
     "text": [
      "9 is not a prime number.\n"
     ]
    }
   ],
   "source": [
    "# Check if a number is prime\n",
    "num = int(input(\"Enter a number: \"))\n",
    "\n",
    "if num > 1:\n",
    "    for i in range(2, int(num**0.5) + 1):\n",
    "        if num % i == 0:\n",
    "            print(f\"{num} is not a prime number.\")\n",
    "            break\n",
    "    else:\n",
    "        print(f\"{num} is a prime number.\")\n",
    "else:\n",
    "    print(f\"{num} is not a prime number.\")\n"
   ]
  },
  {
   "cell_type": "code",
   "execution_count": 62,
   "id": "19c3948a-7764-4dfb-bb82-c018867ce348",
   "metadata": {},
   "outputs": [
    {
     "name": "stdin",
     "output_type": "stream",
     "text": [
      "Enter a number:  5\n"
     ]
    },
    {
     "name": "stdout",
     "output_type": "stream",
     "text": [
      "The factorial of 5 is 120.\n"
     ]
    }
   ],
   "source": [
    "# Calculate factorial of a number\n",
    "num = int(input(\"Enter a number: \"))\n",
    "\n",
    "factorial = 1\n",
    "if num >= 0:\n",
    "    for i in range(1, num + 1):\n",
    "        factorial *= i\n",
    "    print(f\"The factorial of {num} is {factorial}.\")\n",
    "else:\n",
    "    print(\"Factorial is not defined for negative numbers.\")\n"
   ]
  },
  {
   "cell_type": "code",
   "execution_count": 63,
   "id": "e0e4a566-a214-43ff-b148-8eda4e236d2c",
   "metadata": {},
   "outputs": [
    {
     "name": "stdout",
     "output_type": "stream",
     "text": [
      "The largest item in the list is 12.\n"
     ]
    }
   ],
   "source": [
    "# Find the largest item in a list\n",
    "numbers = [3, 7, 1, 9, 12, 4]\n",
    "largest = max(numbers)\n",
    "print(f\"The largest item in the list is {largest}.\")\n"
   ]
  },
  {
   "cell_type": "code",
   "execution_count": 72,
   "id": "be66398a-fc31-4dce-841f-eb7c44a55532",
   "metadata": {},
   "outputs": [
    {
     "name": "stdin",
     "output_type": "stream",
     "text": [
      "Enter a number:  3\n"
     ]
    },
    {
     "name": "stdout",
     "output_type": "stream",
     "text": [
      "3 is not in the range of 10 to 20.\n"
     ]
    }
   ],
   "source": [
    "# Check if a number is in a range\n",
    "num = int(input(\"Enter a number: \"))\n",
    "lower_bound = 10\n",
    "upper_bound = 20\n",
    "\n",
    "if lower_bound <= num <= upper_bound:\n",
    "    print(f\"{num} is in the range of {lower_bound} to {upper_bound}.\")\n",
    "else:\n",
    "    print(f\"{num} is not in the range of {lower_bound} to {upper_bound}.\")\n"
   ]
  },
  {
   "cell_type": "code",
   "execution_count": 74,
   "id": "8aa3c4d2-8b3e-4486-9432-a6d6b03d65ed",
   "metadata": {},
   "outputs": [
    {
     "name": "stdin",
     "output_type": "stream",
     "text": [
      "Enter a string:  hello\n"
     ]
    },
    {
     "ename": "TypeError",
     "evalue": "'int' object is not callable",
     "output_type": "error",
     "traceback": [
      "\u001b[1;31m---------------------------------------------------------------------------\u001b[0m",
      "\u001b[1;31mTypeError\u001b[0m                                 Traceback (most recent call last)",
      "Cell \u001b[1;32mIn[74], line 5\u001b[0m\n\u001b[0;32m      2\u001b[0m text \u001b[38;5;241m=\u001b[39m \u001b[38;5;28minput\u001b[39m(\u001b[38;5;124m\"\u001b[39m\u001b[38;5;124mEnter a string: \u001b[39m\u001b[38;5;124m\"\u001b[39m)\n\u001b[0;32m      4\u001b[0m \u001b[38;5;66;03m# Count uppercase and lowercase letters using generator expressions\u001b[39;00m\n\u001b[1;32m----> 5\u001b[0m upper_case_count \u001b[38;5;241m=\u001b[39m \u001b[38;5;28;43msum\u001b[39;49m\u001b[43m(\u001b[49m\u001b[38;5;241;43m1\u001b[39;49m\u001b[43m \u001b[49m\u001b[38;5;28;43;01mfor\u001b[39;49;00m\u001b[43m \u001b[49m\u001b[43mchar\u001b[49m\u001b[43m \u001b[49m\u001b[38;5;129;43;01min\u001b[39;49;00m\u001b[43m \u001b[49m\u001b[43mtext\u001b[49m\u001b[43m \u001b[49m\u001b[38;5;28;43;01mif\u001b[39;49;00m\u001b[43m \u001b[49m\u001b[43mchar\u001b[49m\u001b[38;5;241;43m.\u001b[39;49m\u001b[43misupper\u001b[49m\u001b[43m(\u001b[49m\u001b[43m)\u001b[49m\u001b[43m)\u001b[49m\n\u001b[0;32m      6\u001b[0m lower_case_count \u001b[38;5;241m=\u001b[39m \u001b[38;5;28msum\u001b[39m(\u001b[38;5;241m1\u001b[39m \u001b[38;5;28;01mfor\u001b[39;00m char \u001b[38;5;129;01min\u001b[39;00m text \u001b[38;5;28;01mif\u001b[39;00m char\u001b[38;5;241m.\u001b[39mislower())\n\u001b[0;32m      8\u001b[0m \u001b[38;5;66;03m# Output the results\u001b[39;00m\n",
      "\u001b[1;31mTypeError\u001b[0m: 'int' object is not callable"
     ]
    }
   ],
   "source": [
    "# Count upper and lower case letters in a string\n",
    "text = input(\"Enter a string: \")\n",
    "\n",
    "# Count uppercase and lowercase letters using generator expressions\n",
    "upper_case_count = sum(1 for char in text if char.isupper())\n",
    "lower_case_count = sum(1 for char in text if char.islower())\n",
    "\n",
    "# Output the results\n",
    "print(f\"Upper case letters: {upper_case_count}\")\n",
    "print(f\"Lower case letters: {lower_case_count}\")\n"
   ]
  },
  {
   "cell_type": "code",
   "execution_count": null,
   "id": "7cb1d113-839d-4f51-bd24-3cb1efbfd062",
   "metadata": {},
   "outputs": [],
   "source": []
  }
 ],
 "metadata": {
  "kernelspec": {
   "display_name": "Python 3 (ipykernel)",
   "language": "python",
   "name": "python3"
  },
  "language_info": {
   "codemirror_mode": {
    "name": "ipython",
    "version": 3
   },
   "file_extension": ".py",
   "mimetype": "text/x-python",
   "name": "python",
   "nbconvert_exporter": "python",
   "pygments_lexer": "ipython3",
   "version": "3.13.1"
  }
 },
 "nbformat": 4,
 "nbformat_minor": 5
}
