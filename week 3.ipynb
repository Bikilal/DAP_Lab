{
 "cells": [
  {
   "cell_type": "code",
   "execution_count": null,
   "id": "e10675ac-ba3c-4add-aa1e-ef32eb326a39",
   "metadata": {},
   "outputs": [],
   "source": [
    "import tkinter as tk\n",
    "\n",
    "# Function to update the entry field when buttons are clicked\n",
    "def on_button_click(value):\n",
    "    entry_var.set(entry_var.get() + str(value))\n",
    "\n",
    "# Function to evaluate the expression\n",
    "def calculate():\n",
    "    try:\n",
    "        result = eval(entry_var.get())  # Evaluate the expression\n",
    "        entry_var.set(result)\n",
    "    except:\n",
    "        entry_var.set(\"Error\")  # Handle invalid expressions\n",
    "\n",
    "# Function to clear the entry field\n",
    "def clear():\n",
    "    entry_var.set(\"\")\n",
    "\n",
    "# Create the main window\n",
    "root = tk.Tk()\n",
    "root.title(\"Simple Calculator\")\n",
    "root.geometry(\"300x400\")\n",
    "\n",
    "# Entry field to display numbers and results\n",
    "entry_var = tk.StringVar()\n",
    "entry_field = tk.Entry(root, textvariable=entry_var, font=(\"Arial\", 20), justify=\"right\")\n",
    "entry_field.grid(row=0, column=0, columnspan=4, ipadx=8, ipady=8)\n",
    "\n",
    "# Define calculator buttons\n",
    "buttons = [\n",
    "    ('7', 1, 0), ('8', 1, 1), ('9', 1, 2), ('/', 1, 3),\n",
    "    ('4', 2, 0), ('5', 2, 1), ('6', 2, 2), ('*', 2, 3),\n",
    "    ('1', 3, 0), ('2', 3, 1), ('3', 3, 2), ('-', 3, 3),\n",
    "    ('0', 4, 0), ('.', 4, 1), ('+', 4, 2), ('=', 4, 3),\n",
    "]\n",
    "\n",
    "# Add buttons to the GUI\n",
    "for text, row, col in buttons:\n",
    "    if text == \"=\":\n",
    "        btn = tk.Button(root, text=text, font=(\"Arial\", 18), width=5, height=2, command=calculate)\n",
    "    else:\n",
    "        btn = tk.Button(root, text=text, font=(\"Arial\", 18), width=5, height=2, \n",
    "                        command=lambda t=text: on_button_click(t))  \n",
    "    btn.grid(row=row, column=col, padx=5, pady=5)\n",
    "\n",
    "# Clear button\n",
    "clear_btn = tk.Button(root, text=\"C\", font=(\"Arial\", 18), width=22, height=2, command=clear)\n",
    "clear_btn.grid(row=5, column=0, columnspan=4, padx=5, pady=5)\n",
    "\n",
    "# Run the GUI loop\n",
    "root.mainloop()\n"
   ]
  },
  {
   "cell_type": "code",
   "execution_count": null,
   "id": "c4c57183-05ad-4901-a072-027b4613535d",
   "metadata": {},
   "outputs": [],
   "source": []
  },
  {
   "cell_type": "code",
   "execution_count": null,
   "id": "42474bf9-87c8-4830-9625-6269aa1d099d",
   "metadata": {},
   "outputs": [],
   "source": []
  }
 ],
 "metadata": {
  "kernelspec": {
   "display_name": "Python 3 (ipykernel)",
   "language": "python",
   "name": "python3"
  },
  "language_info": {
   "codemirror_mode": {
    "name": "ipython",
    "version": 3
   },
   "file_extension": ".py",
   "mimetype": "text/x-python",
   "name": "python",
   "nbconvert_exporter": "python",
   "pygments_lexer": "ipython3",
   "version": "3.13.1"
  }
 },
 "nbformat": 4,
 "nbformat_minor": 5
}
